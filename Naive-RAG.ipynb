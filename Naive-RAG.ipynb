{
 "cells": [
  {
   "cell_type": "markdown",
   "id": "1a734789",
   "metadata": {},
   "source": [
    "# Breaking down the document into chunks"
   ]
  },
  {
   "cell_type": "code",
   "execution_count": 12,
   "id": "f69513fb",
   "metadata": {},
   "outputs": [
    {
     "name": "stderr",
     "output_type": "stream",
     "text": [
      "[nltk_data] Downloading package punkt to\n",
      "[nltk_data]     C:\\Users\\user\\AppData\\Roaming\\nltk_data...\n",
      "[nltk_data]   Package punkt is already up-to-date!\n"
     ]
    }
   ],
   "source": [
    "import nltk\n",
    "nltk.download(\"punkt\")\n",
    "from nltk.tokenize import sent_tokenize\n",
    "\n",
    "def chunk_by_sentences(text, max_tokens=20):\n",
    "    from transformers import AutoTokenizer\n",
    "    tokenizer = AutoTokenizer.from_pretrained(\"bert-base-uncased\")\n",
    "    \n",
    "    sentences = sent_tokenize(text)\n",
    "    chunks = []\n",
    "    current_chunk = []\n",
    "    total_tokens = 0\n",
    "\n",
    "    for sentence in sentences:\n",
    "        tokens = tokenizer.tokenize(sentence)\n",
    "        token_count = len(tokens)\n",
    "\n",
    "        if total_tokens + token_count > max_tokens:\n",
    "            chunks.append(\" \".join(current_chunk))\n",
    "            current_chunk = []\n",
    "            total_tokens = 0\n",
    "\n",
    "        current_chunk.append(sentence)\n",
    "        total_tokens += token_count\n",
    "\n",
    "    if current_chunk:\n",
    "        chunks.append(\" \".join(current_chunk))\n",
    "\n",
    "    return chunks\n",
    "\n",
    "full_text = \"\"\"Ayutthaya, located in the central plains of Thailand, is a city steeped in history and cultural significance. \n",
    "              Established in 1350 by King U Thong, it became the second capital of the Siamese Kingdom after Sukhothai. \n",
    "              Over the course of more than four centuries, Ayutthaya flourished as one of the world’s most important trading and diplomatic hubs. \n",
    "              Its strategic location between China, India, and the Malay Archipelago allowed it to attract merchants from Europe, the Middle East, and across Asia. \n",
    "              The city was renowned for its grandeur, boasting impressive temples, royal palaces, and advanced urban planning, all surrounded by a network of rivers that served as natural defenses.\n",
    "              Ayutthaya was a melting pot of cultures, where Thai, Khmer, Chinese, Japanese, Portuguese, Dutch, and French communities lived and traded side by side. \n",
    "              Its architecture reflected this diversity, blending traditional Thai styles with foreign influences in everything from temples to fortifications. \n",
    "              Unfortunately, in 1767, the city fell to Burmese invaders, who looted and burned much of it to the ground. \n",
    "              Despite this devastation, the ruins of Ayutthaya still stand as a powerful reminder of the city’s former glory. \n",
    "              Today, the Ayutthaya Historical Park, a UNESCO World Heritage Site, preserves many of the ancient structures, such as Wat Phra Si Sanphet, Wat Mahathat, and the iconic Buddha head entwined in tree roots. \n",
    "              These ruins attract visitors from around the world who come to witness the beauty and historical depth of a civilization that once stood at the crossroads of global trade and diplomacy.\n",
    "            \"\"\"\n",
    "\n",
    "chunks = chunk_by_sentences(full_text)\n"
   ]
  },
  {
   "cell_type": "code",
   "execution_count": 13,
   "id": "b15e0e8d",
   "metadata": {},
   "outputs": [
    {
     "data": {
      "text/plain": [
       "['',\n",
       " 'Ayutthaya, located in the central plains of Thailand, is a city steeped in history and cultural significance.',\n",
       " 'Established in 1350 by King U Thong, it became the second capital of the Siamese Kingdom after Sukhothai.',\n",
       " 'Over the course of more than four centuries, Ayutthaya flourished as one of the world’s most important trading and diplomatic hubs.',\n",
       " 'Its strategic location between China, India, and the Malay Archipelago allowed it to attract merchants from Europe, the Middle East, and across Asia.',\n",
       " 'The city was renowned for its grandeur, boasting impressive temples, royal palaces, and advanced urban planning, all surrounded by a network of rivers that served as natural defenses.',\n",
       " 'Ayutthaya was a melting pot of cultures, where Thai, Khmer, Chinese, Japanese, Portuguese, Dutch, and French communities lived and traded side by side.',\n",
       " 'Its architecture reflected this diversity, blending traditional Thai styles with foreign influences in everything from temples to fortifications.',\n",
       " 'Unfortunately, in 1767, the city fell to Burmese invaders, who looted and burned much of it to the ground.',\n",
       " 'Despite this devastation, the ruins of Ayutthaya still stand as a powerful reminder of the city’s former glory.',\n",
       " 'Today, the Ayutthaya Historical Park, a UNESCO World Heritage Site, preserves many of the ancient structures, such as Wat Phra Si Sanphet, Wat Mahathat, and the iconic Buddha head entwined in tree roots.',\n",
       " 'These ruins attract visitors from around the world who come to witness the beauty and historical depth of a civilization that once stood at the crossroads of global trade and diplomacy.']"
      ]
     },
     "execution_count": 13,
     "metadata": {},
     "output_type": "execute_result"
    }
   ],
   "source": [
    "chunks"
   ]
  },
  {
   "cell_type": "code",
   "execution_count": 14,
   "id": "6a151206",
   "metadata": {},
   "outputs": [
    {
     "name": "stdout",
     "output_type": "stream",
     "text": [
      "Number of chunks: 12\n"
     ]
    }
   ],
   "source": [
    "print(\"Number of chunks:\", len(chunks))"
   ]
  },
  {
   "cell_type": "markdown",
   "id": "be54e845",
   "metadata": {},
   "source": [
    "# Indexing"
   ]
  },
  {
   "cell_type": "code",
   "execution_count": 15,
   "id": "e7995221",
   "metadata": {},
   "outputs": [
    {
     "name": "stdout",
     "output_type": "stream",
     "text": [
      "✅ Indexing complete. You can now use this index for retrieval.\n"
     ]
    }
   ],
   "source": [
    "import os\n",
    "import faiss\n",
    "import pickle\n",
    "from sentence_transformers import SentenceTransformer\n",
    "\n",
    "documents = chunks\n",
    "\n",
    "# Step 2: Embed the documents\n",
    "embedder = SentenceTransformer('all-MiniLM-L6-v2')  # Small, fast model\n",
    "document_embeddings = embedder.encode(documents, convert_to_numpy=True)\n",
    "\n",
    "# Step 3: Create FAISS index\n",
    "dimension = document_embeddings.shape[1]\n",
    "index = faiss.IndexFlatL2(dimension)  # L2 distance\n",
    "index.add(document_embeddings)\n",
    "\n",
    "# Step 4: Save index and documents for retrieval\n",
    "faiss.write_index(index, \"rag_index.faiss\")\n",
    "with open(\"rag_documents.pkl\", \"wb\") as f:\n",
    "    pickle.dump(documents, f)\n",
    "\n",
    "print(\"✅ Indexing complete. You can now use this index for retrieval.\")\n"
   ]
  },
  {
   "cell_type": "code",
   "execution_count": 16,
   "id": "d8c643c2",
   "metadata": {},
   "outputs": [
    {
     "data": {
      "text/plain": [
       "(12, 384)"
      ]
     },
     "execution_count": 16,
     "metadata": {},
     "output_type": "execute_result"
    }
   ],
   "source": [
    "document_embeddings.shape"
   ]
  },
  {
   "cell_type": "markdown",
   "id": "abf890c9",
   "metadata": {},
   "source": [
    "**How it works inside**"
   ]
  },
  {
   "cell_type": "code",
   "execution_count": 11,
   "id": "6a2d6178",
   "metadata": {},
   "outputs": [
    {
     "name": "stdout",
     "output_type": "stream",
     "text": [
      "Number of vectors in the index: 3\n",
      "\n",
      "Query: [1.1 2.1 2.2]\n",
      "Nearest neighbor's Faiss internal ID: 0\n",
      "Distance to nearest neighbor: 0.06000000238418579\n",
      "Reconstructed vector: [1. 2. 2.]\n",
      "Original vector1: [1. 2. 2.]\n"
     ]
    }
   ],
   "source": [
    "import faiss\n",
    "import numpy as np\n",
    "\n",
    "# Dimension of your vectors\n",
    "d = 3\n",
    "\n",
    "# Your vectors (converted to float32 as Faiss expects)\n",
    "vector1 = np.array([1, 2, 2], dtype='float32')\n",
    "vector2 = np.array([2, 3, 4], dtype='float32')\n",
    "vector3 = np.array([0, 1, 0], dtype='float32')\n",
    "\n",
    "# Create a batch of vectors to add\n",
    "xb = np.array([vector1, vector2, vector3])\n",
    "\n",
    "# Create a simple Faiss index (IndexFlatL2 for brute-force Euclidean distance)\n",
    "index = faiss.IndexFlatL2(d)\n",
    "\n",
    "# Add the vectors to the index\n",
    "index.add(xb)\n",
    "\n",
    "print(f\"Number of vectors in the index: {index.ntotal}\")\n",
    "\n",
    "# Now, let's search for a query\n",
    "query_vector = np.array([[1.1, 2.1, 2.2]], dtype='float32')\n",
    "\n",
    "k = 1 # We want the 1 nearest neighbor\n",
    "distances, faiss_internal_ids = index.search(query_vector, k)\n",
    "\n",
    "print(f\"\\nQuery: {query_vector[0]}\")\n",
    "retrieved_id = faiss_internal_ids[0][0]\n",
    "print(f\"Nearest neighbor's Faiss internal ID: {retrieved_id}\")\n",
    "print(f\"Distance to nearest neighbor: {distances[0][0]}\")\n",
    "\n",
    "# --- THE CORRECT FIX IS HERE ---\n",
    "# Call reconstruct with only the ID. It returns the vector.\n",
    "reconstructed_vec = index.reconstruct(int(retrieved_id))\n",
    "# --- END OF CORRECT FIX ---\n",
    "\n",
    "print(f\"Reconstructed vector: {reconstructed_vec}\")\n",
    "print(f\"Original vector1: {vector1}\")"
   ]
  },
  {
   "cell_type": "markdown",
   "id": "fb903dfd",
   "metadata": {},
   "source": [
    "# Retrieval and Generation"
   ]
  },
  {
   "cell_type": "code",
   "execution_count": 20,
   "id": "80143070",
   "metadata": {},
   "outputs": [
    {
     "name": "stderr",
     "output_type": "stream",
     "text": [
      "Some parameters are on the meta device because they were offloaded to the cpu.\n"
     ]
    },
    {
     "name": "stdout",
     "output_type": "stream",
     "text": [
      "🔍 Retrieved Chunks:\n",
      " Ayutthaya, located in the central plains of Thailand, is a city steeped in history and cultural significance.\n",
      "---\n",
      "Over the course of more than four centuries, Ayutthaya flourished as one of the world’s most important trading and diplomatic hubs.\n",
      "---\n",
      "Ayutthaya was a melting pot of cultures, where Thai, Khmer, Chinese, Japanese, Portuguese, Dutch, and French communities lived and traded side by side.\n",
      "---\n",
      "Despite this devastation, the ruins of Ayutthaya still stand as a powerful reminder of the city’s former glory.\n",
      "---\n",
      "Today, the Ayutthaya Historical Park, a UNESCO World Heritage Site, preserves many of the ancient structures, such as Wat Phra Si Sanphet, Wat Mahathat, and the iconic Buddha head entwined in tree roots.\n",
      "\n",
      "🧠 Answer:\n",
      " Answer: Ayutthaya was established in 1350 by King Ramathibodi I.\n"
     ]
    }
   ],
   "source": [
    "import torch\n",
    "import pickle\n",
    "import faiss\n",
    "from transformers import AutoTokenizer, AutoModelForCausalLM\n",
    "from sentence_transformers import SentenceTransformer\n",
    "\n",
    "# Step 1: Load FAISS index and documents\n",
    "index = faiss.read_index(\"rag_index.faiss\")\n",
    "with open(\"rag_documents.pkl\", \"rb\") as f:\n",
    "    documents = pickle.load(f)\n",
    "\n",
    "# Step 2: Load embedding model\n",
    "embedder = SentenceTransformer('all-MiniLM-L6-v2')\n",
    "\n",
    "# Step 3: Load local LLM (e.g., Mistral, TinyLlama)\n",
    "model_name = \"TinyLlama/TinyLlama-1.1B-Chat-v1.0\" # Replace with any other local model\n",
    "tokenizer = AutoTokenizer.from_pretrained(model_name)\n",
    "model = AutoModelForCausalLM.from_pretrained(\n",
    "    model_name,\n",
    "    torch_dtype=torch.float16,\n",
    "    device_map=\"auto\"\n",
    ")\n",
    "\n",
    "# Step 4: Retrieval\n",
    "def retrieve(query, top_k=5):\n",
    "    query_embedding = embedder.encode([query], convert_to_numpy=True)\n",
    "    distances, indices = index.search(query_embedding, top_k)\n",
    "    return [documents[i] for i in indices[0]]\n",
    "\n",
    "# Step 5: Generation\n",
    "def generate_answer(query, context_docs):\n",
    "    context = \"\\n\\n\".join(context_docs)\n",
    "    prompt = f\"\"\"[INST] Use the following context to answer the question.\\n\\nContext:\\n{context}\\n\\nQuestion: {query} [/INST]\"\"\"\n",
    "\n",
    "    inputs = tokenizer(prompt, return_tensors=\"pt\", truncation=True, max_length=4096).to(model.device)\n",
    "    outputs = model.generate(\n",
    "        **inputs,\n",
    "        max_new_tokens=256,\n",
    "        do_sample=False,\n",
    "        temperature=0.3\n",
    "    )\n",
    "    return tokenizer.decode(outputs[0], skip_special_tokens=True).split(\"[/INST]\")[-1].strip()\n",
    "\n",
    "# Step 6: Run an example\n",
    "query = \"When was ayutthaya established ?\"\n",
    "retrieved = retrieve(query)\n",
    "answer = generate_answer(query, retrieved)\n",
    "\n",
    "print(\"🔍 Retrieved Chunks:\\n\", \"\\n---\\n\".join(retrieved))\n",
    "print(\"\\n🧠 Answer:\\n\", answer)\n"
   ]
  },
  {
   "cell_type": "code",
   "execution_count": null,
   "id": "5909839a",
   "metadata": {},
   "outputs": [],
   "source": []
  }
 ],
 "metadata": {
  "kernelspec": {
   "display_name": "Python 3",
   "language": "python",
   "name": "python3"
  },
  "language_info": {
   "codemirror_mode": {
    "name": "ipython",
    "version": 3
   },
   "file_extension": ".py",
   "mimetype": "text/x-python",
   "name": "python",
   "nbconvert_exporter": "python",
   "pygments_lexer": "ipython3",
   "version": "3.9.0"
  }
 },
 "nbformat": 4,
 "nbformat_minor": 5
}
