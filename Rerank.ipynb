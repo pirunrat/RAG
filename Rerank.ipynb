{
 "cells": [
  {
   "cell_type": "markdown",
   "id": "1a734789",
   "metadata": {},
   "source": [
    "# Breaking down the document into chunks"
   ]
  },
  {
   "cell_type": "code",
   "execution_count": 24,
   "id": "f69513fb",
   "metadata": {},
   "outputs": [
    {
     "name": "stderr",
     "output_type": "stream",
     "text": [
      "[nltk_data] Downloading package punkt to\n",
      "[nltk_data]     C:\\Users\\user\\AppData\\Roaming\\nltk_data...\n",
      "[nltk_data]   Package punkt is already up-to-date!\n"
     ]
    }
   ],
   "source": [
    "import nltk\n",
    "nltk.download(\"punkt\")\n",
    "from nltk.tokenize import sent_tokenize\n",
    "\n",
    "def chunk_by_sentences(text, max_tokens=20):\n",
    "    from transformers import AutoTokenizer\n",
    "    tokenizer = AutoTokenizer.from_pretrained(\"bert-base-uncased\")\n",
    "    \n",
    "    sentences = sent_tokenize(text)\n",
    "    chunks = []\n",
    "    current_chunk = []\n",
    "    total_tokens = 0\n",
    "\n",
    "    for sentence in sentences:\n",
    "        tokens = tokenizer.tokenize(sentence)\n",
    "        token_count = len(tokens)\n",
    "\n",
    "        if total_tokens + token_count > max_tokens:\n",
    "            chunks.append(\" \".join(current_chunk))\n",
    "            current_chunk = []\n",
    "            total_tokens = 0\n",
    "\n",
    "        current_chunk.append(sentence)\n",
    "        total_tokens += token_count\n",
    "\n",
    "    if current_chunk:\n",
    "        chunks.append(\" \".join(current_chunk))\n",
    "\n",
    "    return chunks\n",
    "\n",
    "full_text = \"\"\"Ayutthaya, located in the central plains of Thailand, is a city steeped in history and cultural significance. \n",
    "              Established in 1350 by King U Thong, it became the second capital of the Siamese Kingdom after Sukhothai. \n",
    "              Over the course of more than four centuries, Ayutthaya flourished as one of the world’s most important trading and diplomatic hubs. \n",
    "              Its strategic location between China, India, and the Malay Archipelago allowed it to attract merchants from Europe, the Middle East, and across Asia. \n",
    "              The city was renowned for its grandeur, boasting impressive temples, royal palaces, and advanced urban planning, all surrounded by a network of rivers that served as natural defenses.\n",
    "              Ayutthaya was a melting pot of cultures, where Thai, Khmer, Chinese, Japanese, Portuguese, Dutch, and French communities lived and traded side by side. \n",
    "              Its architecture reflected this diversity, blending traditional Thai styles with foreign influences in everything from temples to fortifications. \n",
    "              Unfortunately, in 1767, the city fell to Burmese invaders, who looted and burned much of it to the ground. \n",
    "              Despite this devastation, the ruins of Ayutthaya still stand as a powerful reminder of the city’s former glory. \n",
    "              Today, the Ayutthaya Historical Park, a UNESCO World Heritage Site, preserves many of the ancient structures, such as Wat Phra Si Sanphet, Wat Mahathat, and the iconic Buddha head entwined in tree roots. \n",
    "              These ruins attract visitors from around the world who come to witness the beauty and historical depth of a civilization that once stood at the crossroads of global trade and diplomacy.\n",
    "            \"\"\"\n",
    "\n",
    "chunks = chunk_by_sentences(full_text)\n"
   ]
  },
  {
   "cell_type": "code",
   "execution_count": 25,
   "id": "b15e0e8d",
   "metadata": {},
   "outputs": [
    {
     "data": {
      "text/plain": [
       "['',\n",
       " 'Ayutthaya, located in the central plains of Thailand, is a city steeped in history and cultural significance.',\n",
       " 'Established in 1350 by King U Thong, it became the second capital of the Siamese Kingdom after Sukhothai.',\n",
       " 'Over the course of more than four centuries, Ayutthaya flourished as one of the world’s most important trading and diplomatic hubs.',\n",
       " 'Its strategic location between China, India, and the Malay Archipelago allowed it to attract merchants from Europe, the Middle East, and across Asia.',\n",
       " 'The city was renowned for its grandeur, boasting impressive temples, royal palaces, and advanced urban planning, all surrounded by a network of rivers that served as natural defenses.',\n",
       " 'Ayutthaya was a melting pot of cultures, where Thai, Khmer, Chinese, Japanese, Portuguese, Dutch, and French communities lived and traded side by side.',\n",
       " 'Its architecture reflected this diversity, blending traditional Thai styles with foreign influences in everything from temples to fortifications.',\n",
       " 'Unfortunately, in 1767, the city fell to Burmese invaders, who looted and burned much of it to the ground.',\n",
       " 'Despite this devastation, the ruins of Ayutthaya still stand as a powerful reminder of the city’s former glory.',\n",
       " 'Today, the Ayutthaya Historical Park, a UNESCO World Heritage Site, preserves many of the ancient structures, such as Wat Phra Si Sanphet, Wat Mahathat, and the iconic Buddha head entwined in tree roots.',\n",
       " 'These ruins attract visitors from around the world who come to witness the beauty and historical depth of a civilization that once stood at the crossroads of global trade and diplomacy.']"
      ]
     },
     "execution_count": 25,
     "metadata": {},
     "output_type": "execute_result"
    }
   ],
   "source": [
    "chunks"
   ]
  },
  {
   "cell_type": "code",
   "execution_count": 26,
   "id": "6a151206",
   "metadata": {},
   "outputs": [
    {
     "name": "stdout",
     "output_type": "stream",
     "text": [
      "Number of chunks: 12\n"
     ]
    }
   ],
   "source": [
    "print(\"Number of chunks:\", len(chunks))"
   ]
  },
  {
   "cell_type": "markdown",
   "id": "be54e845",
   "metadata": {},
   "source": [
    "# Indexing"
   ]
  },
  {
   "cell_type": "code",
   "execution_count": 27,
   "id": "e7995221",
   "metadata": {},
   "outputs": [
    {
     "name": "stdout",
     "output_type": "stream",
     "text": [
      "🔍 Loading embedding model...\n",
      "🔢 Encoding documents...\n"
     ]
    },
    {
     "data": {
      "application/vnd.jupyter.widget-view+json": {
       "model_id": "00d2809aeb804c0b85c37b7680667fef",
       "version_major": 2,
       "version_minor": 0
      },
      "text/plain": [
       "Batches:   0%|          | 0/1 [00:00<?, ?it/s]"
      ]
     },
     "metadata": {},
     "output_type": "display_data"
    },
    {
     "name": "stdout",
     "output_type": "stream",
     "text": [
      "💾 Saving FAISS index and document chunks...\n",
      "✅ Indexing complete. Rerank-ready!\n"
     ]
    }
   ],
   "source": [
    "import os\n",
    "import faiss\n",
    "import pickle\n",
    "from sentence_transformers import SentenceTransformer\n",
    "\n",
    "# Step 1: Prepare your document chunks (load or define here)\n",
    "\n",
    "documents = chunks  # Each chunk is a \"document\" in this simple setup\n",
    "\n",
    "# Step 2: Embed the documents\n",
    "print(\"🔍 Loading embedding model...\")\n",
    "embedder = SentenceTransformer('all-MiniLM-L6-v2')  # Fast & good quality\n",
    "\n",
    "print(\"🔢 Encoding documents...\")\n",
    "document_embeddings = embedder.encode(documents, convert_to_numpy=True, show_progress_bar=True)\n",
    "\n",
    "# Step 3: Create and populate FAISS index\n",
    "dimension = document_embeddings.shape[1]\n",
    "index = faiss.IndexFlatL2(dimension)  # L2 distance\n",
    "index.add(document_embeddings)\n",
    "\n",
    "# Step 4: Save index and documents for retrieval + reranking\n",
    "print(\"💾 Saving FAISS index and document chunks...\")\n",
    "faiss.write_index(index, \"rag_index.faiss\")\n",
    "\n",
    "with open(\"rag_documents.pkl\", \"wb\") as f:\n",
    "    pickle.dump(documents, f)\n",
    "\n",
    "print(\"✅ Indexing complete. Rerank-ready!\")\n"
   ]
  },
  {
   "cell_type": "code",
   "execution_count": 28,
   "id": "d8c643c2",
   "metadata": {},
   "outputs": [
    {
     "data": {
      "text/plain": [
       "(12, 384)"
      ]
     },
     "execution_count": 28,
     "metadata": {},
     "output_type": "execute_result"
    }
   ],
   "source": [
    "document_embeddings.shape"
   ]
  },
  {
   "cell_type": "markdown",
   "id": "fb903dfd",
   "metadata": {},
   "source": [
    "# Retrieval and Generation"
   ]
  },
  {
   "cell_type": "code",
   "execution_count": 29,
   "id": "80143070",
   "metadata": {},
   "outputs": [
    {
     "name": "stderr",
     "output_type": "stream",
     "text": [
      "Some parameters are on the meta device because they were offloaded to the cpu.\n"
     ]
    },
    {
     "name": "stdout",
     "output_type": "stream",
     "text": [
      "🔍 Top Retrieved Chunks (after reranking):\n",
      "\n",
      "--- Rank 1 (Score: 1.6141) ---\n",
      "Ayutthaya, located in the central plains of Thailand, is a city steeped in history and cultural significance.\n",
      "\n",
      "\n",
      "--- Rank 2 (Score: -1.0811) ---\n",
      "Over the course of more than four centuries, Ayutthaya flourished as one of the world’s most important trading and diplomatic hubs.\n",
      "\n",
      "\n",
      "--- Rank 3 (Score: -1.1523) ---\n",
      "Ayutthaya was a melting pot of cultures, where Thai, Khmer, Chinese, Japanese, Portuguese, Dutch, and French communities lived and traded side by side.\n",
      "\n",
      "\n",
      "--- Rank 4 (Score: -1.6424) ---\n",
      "Despite this devastation, the ruins of Ayutthaya still stand as a powerful reminder of the city’s former glory.\n",
      "\n",
      "\n",
      "--- Rank 5 (Score: -3.4244) ---\n",
      "Today, the Ayutthaya Historical Park, a UNESCO World Heritage Site, preserves many of the ancient structures, such as Wat Phra Si Sanphet, Wat Mahathat, and the iconic Buddha head entwined in tree roots.\n",
      "\n",
      "🧠 Answer:\n",
      " Answer: The second capital city after Ayutthaya was Chiang Mai.\n",
      "\n",
      "Context:\n",
      "Chiang Mai, located in the northern region of Thailand, was the second capital city of Th\n"
     ]
    }
   ],
   "source": [
    "import torch\n",
    "import pickle\n",
    "import faiss\n",
    "from transformers import AutoTokenizer, AutoModelForCausalLM\n",
    "from sentence_transformers import SentenceTransformer, CrossEncoder\n",
    "\n",
    "# Step 1: Load FAISS index and documents\n",
    "index = faiss.read_index(\"rag_index.faiss\")\n",
    "with open(\"rag_documents.pkl\", \"rb\") as f:\n",
    "    documents = pickle.load(f)\n",
    "\n",
    "# Step 2: Load embedding and reranker models\n",
    "embedder = SentenceTransformer('all-MiniLM-L6-v2')\n",
    "reranker = CrossEncoder('cross-encoder/ms-marco-MiniLM-L-6-v2')  # Reranking model\n",
    "\n",
    "# Step 3: Load local LLM\n",
    "model_name = \"TinyLlama/TinyLlama-1.1B-Chat-v1.0\"\n",
    "tokenizer = AutoTokenizer.from_pretrained(model_name)\n",
    "model = AutoModelForCausalLM.from_pretrained(\n",
    "    model_name,\n",
    "    torch_dtype=torch.float16,\n",
    "    device_map=\"auto\"\n",
    ")\n",
    "\n",
    "# -------------------------------\n",
    "# Step 4: Retrieval + Reranking\n",
    "# -------------------------------\n",
    "def retrieve(query, top_k=10, final_k=5):\n",
    "    # Coarse retrieval via FAISS\n",
    "    query_embedding = embedder.encode([query], convert_to_numpy=True)\n",
    "    _, indices = index.search(query_embedding, top_k)\n",
    "    retrieved_chunks = [documents[i] for i in indices[0]]\n",
    "\n",
    "    # Rerank via CrossEncoder\n",
    "    pairs = [(query, chunk) for chunk in retrieved_chunks]\n",
    "    scores = reranker.predict(pairs)\n",
    "\n",
    "    # Sort by score (descending)\n",
    "    reranked = sorted(zip(retrieved_chunks, scores), key=lambda x: x[1], reverse=True)\n",
    "    top_chunks = [chunk for chunk, _ in reranked[:final_k]]\n",
    "\n",
    "    # Print retrieved chunks with scores\n",
    "    print(\"🔍 Top Retrieved Chunks (after reranking):\")\n",
    "    for i, (chunk, score) in enumerate(reranked[:final_k]):\n",
    "        print(f\"\\n--- Rank {i+1} (Score: {score:.4f}) ---\\n{chunk.strip()}\\n\")\n",
    "\n",
    "    return top_chunks\n",
    "\n",
    "# -------------------------------\n",
    "# Step 5: Answer Generation\n",
    "# -------------------------------\n",
    "def generate_answer(query, context_docs):\n",
    "    context = \"\\n\\n\".join(context_docs)\n",
    "    prompt = f\"\"\"[INST] Use the following context to answer the question.\\n\\nContext:\\n{context}\\n\\nQuestion: {query} [/INST]\"\"\"\n",
    "\n",
    "    inputs = tokenizer(prompt, return_tensors=\"pt\", truncation=True, max_length=4096).to(model.device)\n",
    "    outputs = model.generate(\n",
    "        **inputs,\n",
    "        max_new_tokens=256,\n",
    "        do_sample=False,\n",
    "        temperature=0.3\n",
    "    )\n",
    "    return tokenizer.decode(outputs[0], skip_special_tokens=True).split(\"[/INST]\")[-1].strip()\n",
    "\n",
    "# -------------------------------\n",
    "# Step 6: Run RAG Query\n",
    "# -------------------------------\n",
    "\n",
    "query = \"What was the first capital city before Ayutthaya?\"\n",
    "retrieved = retrieve(query)\n",
    "answer = generate_answer(query, retrieved)\n",
    "\n",
    "print(\"🧠 Answer:\\n\", answer)"
   ]
  },
  {
   "cell_type": "code",
   "execution_count": null,
   "id": "ba4e363e",
   "metadata": {},
   "outputs": [],
   "source": []
  }
 ],
 "metadata": {
  "kernelspec": {
   "display_name": "Python 3",
   "language": "python",
   "name": "python3"
  },
  "language_info": {
   "codemirror_mode": {
    "name": "ipython",
    "version": 3
   },
   "file_extension": ".py",
   "mimetype": "text/x-python",
   "name": "python",
   "nbconvert_exporter": "python",
   "pygments_lexer": "ipython3",
   "version": "3.9.0"
  }
 },
 "nbformat": 4,
 "nbformat_minor": 5
}
